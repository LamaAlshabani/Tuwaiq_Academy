{
  "cells": [
    {
      "cell_type": "markdown",
      "metadata": {
        "id": "view-in-github",
        "colab_type": "text"
      },
      "source": [
        "<a href=\"https://colab.research.google.com/github/Ruqyai/Tuwaiq_Academy/blob/main/spark/PySpark_On_Colab.ipynb\" target=\"_parent\"><img src=\"https://colab.research.google.com/assets/colab-badge.svg\" alt=\"Open In Colab\"/></a>"
      ]
    },
    {
      "cell_type": "code",
      "source": [
        "!pip install pyspark"
      ],
      "metadata": {
        "colab": {
          "base_uri": "https://localhost:8080/"
        },
        "id": "VDnUIpwBLyrY",
        "outputId": "addb4dc7-bcda-4f1b-9c64-e0e6f624f312"
      },
      "execution_count": 1,
      "outputs": [
        {
          "output_type": "stream",
          "name": "stdout",
          "text": [
            "Looking in indexes: https://pypi.org/simple, https://us-python.pkg.dev/colab-wheels/public/simple/\n",
            "Collecting pyspark\n",
            "  Downloading pyspark-3.3.0.tar.gz (281.3 MB)\n",
            "\u001b[K     |████████████████████████████████| 281.3 MB 46 kB/s \n",
            "\u001b[?25hCollecting py4j==0.10.9.5\n",
            "  Downloading py4j-0.10.9.5-py2.py3-none-any.whl (199 kB)\n",
            "\u001b[K     |████████████████████████████████| 199 kB 44.6 MB/s \n",
            "\u001b[?25hBuilding wheels for collected packages: pyspark\n",
            "  Building wheel for pyspark (setup.py) ... \u001b[?25l\u001b[?25hdone\n",
            "  Created wheel for pyspark: filename=pyspark-3.3.0-py2.py3-none-any.whl size=281764026 sha256=71d46fd424a2bea724c2436ac7aadd26977419126d62f546b26d8dfbc76c590e\n",
            "  Stored in directory: /root/.cache/pip/wheels/7a/8e/1b/f73a52650d2e5f337708d9f6a1750d451a7349a867f928b885\n",
            "Successfully built pyspark\n",
            "Installing collected packages: py4j, pyspark\n",
            "Successfully installed py4j-0.10.9.5 pyspark-3.3.0\n"
          ]
        }
      ]
    },
    {
      "cell_type": "code",
      "execution_count": 2,
      "metadata": {
        "jupyter": {
          "outputs_hidden": false
        },
        "id": "xVZDDxPYLOLz"
      },
      "outputs": [],
      "source": [
        "from pyspark import SparkContext # https://www.tutorialspoint.com/pyspark/pyspark_sparkcontext.htm\n",
        "from pyspark.streaming import StreamingContext\n",
        "from pyspark.sql import SQLContext\n",
        "from pyspark.sql.functions import desc\n",
        "from collections import namedtuple # https://www.geeksforgeeks.org/namedtuple-in-python/\n",
        "\n",
        "import time\n",
        "from IPython import display\n",
        "import matplotlib.pyplot as plt\n",
        "import seaborn as sns\n",
        "# Only works for Jupyter Notebooks!\n",
        "%matplotlib inline "
      ]
    },
    {
      "cell_type": "code",
      "execution_count": 3,
      "metadata": {
        "id": "U-ALsnzbLOL2"
      },
      "outputs": [],
      "source": [
        "# Can only run this once. restart your kernel for any errors.\n",
        "sc = SparkContext()"
      ]
    },
    {
      "cell_type": "code",
      "execution_count": 4,
      "metadata": {
        "id": "NbpfWo_eLOL3",
        "outputId": "2c61eccf-4163-47d6-a2ab-2d363300fdb9",
        "colab": {
          "base_uri": "https://localhost:8080/"
        }
      },
      "outputs": [
        {
          "output_type": "stream",
          "name": "stderr",
          "text": [
            "/usr/local/lib/python3.7/dist-packages/pyspark/sql/context.py:114: FutureWarning: Deprecated in 3.0.0. Use SparkSession.builder.getOrCreate() instead.\n",
            "  FutureWarning,\n"
          ]
        }
      ],
      "source": [
        "ssc = StreamingContext(sc, 10 )\n",
        "sqlContext = SQLContext(sc)\n",
        "socket_stream = ssc.socketTextStream(\"127.0.0.1\", 5553)\n",
        "lines = socket_stream.window( 20 )"
      ]
    },
    {
      "cell_type": "code",
      "execution_count": 5,
      "metadata": {
        "id": "GT4mMCoXLOL4"
      },
      "outputs": [],
      "source": [
        "fields = (\"tag\", \"count\" )\n",
        "Tweet = namedtuple( 'Tweet', fields )\n",
        "# Use Parenthesis for multiple lines or use \\.\n",
        "( lines.flatMap( lambda text: text.split( \" \" ) ) #Splits to a list # lambda is a function # (lambda arguments : expression)\n",
        "  .filter( lambda word: word.lower().startswith(\"#\") ) # Checks for hashtag calls\n",
        "  .map( lambda word: ( word.lower(), 1 ) ) # Lower cases the word\n",
        "  .reduceByKey( lambda a, b: a + b ) #  Count and remove duplicates. #https://spark.apache.org/docs/latest/api/python/reference/api/pyspark.RDD.reduceByKey.html\n",
        "  .map( lambda rec: Tweet( rec[0], rec[1] ) ) # Stores in a Tweet Object\n",
        "  .foreachRDD( lambda rdd: rdd.toDF().sort( desc(\"count\") ) # Sorts them in Descending order in a DataFrame.\n",
        "  .limit(10).registerTempTable(\"tweets\") ) ) #Registers this DataFrame as a temporary table using the given name)"
      ]
    },
    {
      "cell_type": "markdown",
      "metadata": {
        "id": "pz-3KibtLOL5"
      },
      "source": [
        "__________\n",
        "### Before start next ssc.start() you should run TweetListener.py in the terminal\n",
        "```\n",
        "python TweetListener.py\n",
        "```\n",
        "__________"
      ]
    },
    {
      "cell_type": "code",
      "source": [
        "!wget https://raw.githubusercontent.com/Ruqyai/Tuwaiq_Academy/main/spark/TweetsListener.py"
      ],
      "metadata": {
        "colab": {
          "base_uri": "https://localhost:8080/"
        },
        "id": "ULVxajWFPH6w",
        "outputId": "a54b4921-b97f-4fa2-9918-c7ac31972e73"
      },
      "execution_count": 10,
      "outputs": [
        {
          "output_type": "stream",
          "name": "stdout",
          "text": [
            "--2022-10-03 14:31:33--  https://raw.githubusercontent.com/Ruqyai/Tuwaiq_Academy/main/spark/TweetsListener.py\n",
            "Resolving raw.githubusercontent.com (raw.githubusercontent.com)... 185.199.108.133, 185.199.109.133, 185.199.110.133, ...\n",
            "Connecting to raw.githubusercontent.com (raw.githubusercontent.com)|185.199.108.133|:443... connected.\n",
            "HTTP request sent, awaiting response... 200 OK\n",
            "Length: 1706 (1.7K) [text/plain]\n",
            "Saving to: ‘TweetsListener.py’\n",
            "\n",
            "TweetsListener.py   100%[===================>]   1.67K  --.-KB/s    in 0s      \n",
            "\n",
            "2022-10-03 14:31:33 (31.6 MB/s) - ‘TweetsListener.py’ saved [1706/1706]\n",
            "\n"
          ]
        }
      ]
    },
    {
      "cell_type": "code",
      "source": [
        "#run the script/API in the background\n",
        "import subprocess\n",
        "subprocess.Popen([\"python\", \"/content/TweetsListener.py\"]) "
      ],
      "metadata": {
        "colab": {
          "base_uri": "https://localhost:8080/"
        },
        "id": "tSfZ7lJCNr1N",
        "outputId": "a9816f68-f7d1-47ca-9f83-64cefa75bf9f"
      },
      "execution_count": 14,
      "outputs": [
        {
          "output_type": "execute_result",
          "data": {
            "text/plain": [
              "<subprocess.Popen at 0x7fbf8a12b590>"
            ]
          },
          "metadata": {},
          "execution_count": 14
        }
      ]
    },
    {
      "cell_type": "code",
      "execution_count": 15,
      "metadata": {
        "jupyter": {
          "outputs_hidden": false
        },
        "id": "5DFvPzsJLOL6"
      },
      "outputs": [],
      "source": [
        "ssc.start()"
      ]
    },
    {
      "cell_type": "code",
      "execution_count": 17,
      "metadata": {
        "id": "8JSE6dRpLOL7",
        "outputId": "c35856b7-4606-4eec-e09c-41479430a3e1",
        "colab": {
          "base_uri": "https://localhost:8080/",
          "height": 588
        }
      },
      "outputs": [
        {
          "output_type": "stream",
          "name": "stderr",
          "text": [
            "/usr/local/lib/python3.7/dist-packages/matplotlib/backends/backend_agg.py:214: RuntimeWarning: Glyph 128175 missing from current font.\n",
            "  font.set_text(s, 0.0, flags=flags)\n",
            "/usr/local/lib/python3.7/dist-packages/matplotlib/backends/backend_agg.py:183: RuntimeWarning: Glyph 128175 missing from current font.\n",
            "  font.set_text(s, 0, flags=flags)\n"
          ]
        },
        {
          "output_type": "display_data",
          "data": {
            "text/plain": [
              "<Figure size 720x576 with 1 Axes>"
            ],
            "image/png": "[encoded data removed]"
          },
          "metadata": {
            "needs_background": "light"
          }
        }
      ],
      "source": [
        "count = 0\n",
        "while count < 10:\n",
        "    time.sleep( 3 )\n",
        "    top_10_tweets = sqlContext.sql( 'Select tag, count from tweets' )\n",
        "    top_10_df = top_10_tweets.toPandas()\n",
        "    display.clear_output(wait=True)\n",
        "    plt.figure( figsize = ( 10, 8 ) )\n",
        "    sns.barplot( x=\"count\", y=\"tag\", data=top_10_df)\n",
        "    plt.show()\n",
        "    count = count + 1"
      ]
    },
    {
      "cell_type": "code",
      "execution_count": 18,
      "metadata": {
        "id": "IdUkgkruLOL8"
      },
      "outputs": [],
      "source": [
        "ssc.stop()"
      ]
    }
  ],
  "metadata": {
    "anaconda-cloud": {},
    "kernelspec": {
      "display_name": "Python 3 (ipykernel)",
      "language": "python",
      "name": "python3"
    },
    "language_info": {
      "codemirror_mode": {
        "name": "ipython",
        "version": 3
      },
      "file_extension": ".py",
      "mimetype": "text/x-python",
      "name": "python",
      "nbconvert_exporter": "python",
      "pygments_lexer": "ipython3",
      "version": "3.10.2"
    },
    "vscode": {
      "interpreter": {
        "hash": "369f2c481f4da34e4445cda3fffd2e751bd1c4d706f27375911949ba6bb62e1c"
      }
    },
    "colab": {
      "provenance": [],
      "include_colab_link": true
    }
  },
  "nbformat": 4,
  "nbformat_minor": 0
}