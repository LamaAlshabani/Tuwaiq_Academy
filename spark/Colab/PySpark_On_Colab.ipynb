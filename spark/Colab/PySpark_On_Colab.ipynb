{
  "cells": [
    {
      "cell_type": "markdown",
      "metadata": {
        "id": "view-in-github",
        "colab_type": "text"
      },
      "source": [
        "<a href=\"https://colab.research.google.com/github/LamaAlshabani/Tuwaiq_Academy/blob/main/spark/Colab/PySpark_On_Colab.ipynb\" target=\"_parent\"><img src=\"https://colab.research.google.com/assets/colab-badge.svg\" alt=\"Open In Colab\"/></a>"
      ]
    },
    {
      "cell_type": "markdown",
      "source": [
        "# Use Spark Stream to get the top twitter hashtags related a keyword or a hashtag"
      ],
      "metadata": {
        "id": "bpfTKGfDrW9J"
      }
    },
    {
      "cell_type": "code",
      "source": [
        "!pip install pyspark"
      ],
      "metadata": {
        "id": "VDnUIpwBLyrY",
        "outputId": "eb1db2e7-e38a-4c87-8e26-19126ad8907c",
        "colab": {
          "base_uri": "https://localhost:8080/"
        }
      },
      "execution_count": 24,
      "outputs": [
        {
          "output_type": "stream",
          "name": "stdout",
          "text": [
            "Looking in indexes: https://pypi.org/simple, https://us-python.pkg.dev/colab-wheels/public/simple/\n",
            "Requirement already satisfied: pyspark in /usr/local/lib/python3.7/dist-packages (3.3.0)\n",
            "Requirement already satisfied: py4j==0.10.9.5 in /usr/local/lib/python3.7/dist-packages (from pyspark) (0.10.9.5)\n"
          ]
        }
      ]
    },
    {
      "cell_type": "code",
      "execution_count": 25,
      "metadata": {
        "jupyter": {
          "outputs_hidden": false
        },
        "id": "xVZDDxPYLOLz"
      },
      "outputs": [],
      "source": [
        "from pyspark import SparkContext # https://www.tutorialspoint.com/pyspark/pyspark_sparkcontext.htm\n",
        "from pyspark.streaming import StreamingContext\n",
        "from pyspark.sql import SQLContext\n",
        "from pyspark.sql.functions import desc\n",
        "from collections import namedtuple # https://www.geeksforgeeks.org/namedtuple-in-python/\n",
        "\n",
        "import time\n",
        "from IPython import display\n",
        "import matplotlib.pyplot as plt\n",
        "import seaborn as sns\n",
        "# Only works for Jupyter Notebooks!\n",
        "%matplotlib inline "
      ]
    },
    {
      "cell_type": "code",
      "execution_count": 28,
      "metadata": {
        "id": "U-ALsnzbLOL2",
        "outputId": "d2c18a4c-9dc2-4bc7-cd46-913edd9e4954",
        "colab": {
          "base_uri": "https://localhost:8080/",
          "height": 241
        }
      },
      "outputs": [
        {
          "output_type": "error",
          "ename": "ValueError",
          "evalue": "ignored",
          "traceback": [
            "\u001b[0;31m---------------------------------------------------------------------------\u001b[0m",
            "\u001b[0;31mValueError\u001b[0m                                Traceback (most recent call last)",
            "\u001b[0;32m<ipython-input-28-9197d7075d10>\u001b[0m in \u001b[0;36m<module>\u001b[0;34m\u001b[0m\n\u001b[1;32m      1\u001b[0m \u001b[0;31m# Can only run this once.\u001b[0m\u001b[0;34m\u001b[0m\u001b[0;34m\u001b[0m\u001b[0;34m\u001b[0m\u001b[0m\n\u001b[1;32m      2\u001b[0m \u001b[0;31m# restart your kernel for any errors.\u001b[0m\u001b[0;34m\u001b[0m\u001b[0;34m\u001b[0m\u001b[0;34m\u001b[0m\u001b[0m\n\u001b[0;32m----> 3\u001b[0;31m \u001b[0msc\u001b[0m \u001b[0;34m=\u001b[0m \u001b[0mSparkContext\u001b[0m\u001b[0;34m(\u001b[0m\u001b[0;34m)\u001b[0m\u001b[0;34m\u001b[0m\u001b[0;34m\u001b[0m\u001b[0m\n\u001b[0m",
            "\u001b[0;32m/usr/local/lib/python3.7/dist-packages/pyspark/context.py\u001b[0m in \u001b[0;36m__init__\u001b[0;34m(self, master, appName, sparkHome, pyFiles, environment, batchSize, serializer, conf, gateway, jsc, profiler_cls, udf_profiler_cls)\u001b[0m\n\u001b[1;32m    193\u001b[0m             )\n\u001b[1;32m    194\u001b[0m \u001b[0;34m\u001b[0m\u001b[0m\n\u001b[0;32m--> 195\u001b[0;31m         \u001b[0mSparkContext\u001b[0m\u001b[0;34m.\u001b[0m\u001b[0m_ensure_initialized\u001b[0m\u001b[0;34m(\u001b[0m\u001b[0mself\u001b[0m\u001b[0;34m,\u001b[0m \u001b[0mgateway\u001b[0m\u001b[0;34m=\u001b[0m\u001b[0mgateway\u001b[0m\u001b[0;34m,\u001b[0m \u001b[0mconf\u001b[0m\u001b[0;34m=\u001b[0m\u001b[0mconf\u001b[0m\u001b[0;34m)\u001b[0m\u001b[0;34m\u001b[0m\u001b[0;34m\u001b[0m\u001b[0m\n\u001b[0m\u001b[1;32m    196\u001b[0m         \u001b[0;32mtry\u001b[0m\u001b[0;34m:\u001b[0m\u001b[0;34m\u001b[0m\u001b[0;34m\u001b[0m\u001b[0m\n\u001b[1;32m    197\u001b[0m             self._do_init(\n",
            "\u001b[0;32m/usr/local/lib/python3.7/dist-packages/pyspark/context.py\u001b[0m in \u001b[0;36m_ensure_initialized\u001b[0;34m(cls, instance, gateway, conf)\u001b[0m\n\u001b[1;32m    437\u001b[0m                             \u001b[0mcallsite\u001b[0m\u001b[0;34m.\u001b[0m\u001b[0mfunction\u001b[0m\u001b[0;34m,\u001b[0m\u001b[0;34m\u001b[0m\u001b[0;34m\u001b[0m\u001b[0m\n\u001b[1;32m    438\u001b[0m                             \u001b[0mcallsite\u001b[0m\u001b[0;34m.\u001b[0m\u001b[0mfile\u001b[0m\u001b[0;34m,\u001b[0m\u001b[0;34m\u001b[0m\u001b[0;34m\u001b[0m\u001b[0m\n\u001b[0;32m--> 439\u001b[0;31m                             \u001b[0mcallsite\u001b[0m\u001b[0;34m.\u001b[0m\u001b[0mlinenum\u001b[0m\u001b[0;34m,\u001b[0m\u001b[0;34m\u001b[0m\u001b[0;34m\u001b[0m\u001b[0m\n\u001b[0m\u001b[1;32m    440\u001b[0m                         )\n\u001b[1;32m    441\u001b[0m                     )\n",
            "\u001b[0;31mValueError\u001b[0m: Cannot run multiple SparkContexts at once; existing SparkContext(app=pyspark-shell, master=local[*]) created by __init__ at <ipython-input-3-9197d7075d10>:3 "
          ]
        }
      ],
      "source": [
        "# Can only run this once. \n",
        "# restart your kernel for any errors.\n",
        "sc = SparkContext()"
      ]
    },
    {
      "cell_type": "code",
      "execution_count": null,
      "metadata": {
        "id": "NbpfWo_eLOL3"
      },
      "outputs": [],
      "source": [
        "ssc = StreamingContext(sc, 10 )\n",
        "sqlContext = SQLContext(sc)\n",
        "socket_stream = ssc.socketTextStream(\"127.0.0.1\", 5553)\n",
        "lines = socket_stream.window( 20 )"
      ]
    },
    {
      "cell_type": "code",
      "execution_count": null,
      "metadata": {
        "id": "GT4mMCoXLOL4"
      },
      "outputs": [],
      "source": [
        "fields = (\"tag\", \"count\" )\n",
        "Tweet = namedtuple( 'Tweet', fields )\n",
        "# Use Parenthesis for multiple lines or use \\.\n",
        "( lines.flatMap( lambda text: text.split( \" \" ) ) #Splits to a list # lambda is a function # (lambda arguments : expression)\n",
        "  .filter( lambda word: word.lower().startswith(\"#\") ) # Checks for hashtag calls\n",
        "  .map( lambda word: ( word.lower(), 1 ) ) # Lower cases the word\n",
        "  .reduceByKey( lambda a, b: a + b ) #  Count and remove duplicates. #https://spark.apache.org/docs/latest/api/python/reference/api/pyspark.RDD.reduceByKey.html\n",
        "  .map( lambda rec: Tweet( rec[0], rec[1] ) ) # Stores in a Tweet Object\n",
        "  .foreachRDD( lambda rdd: rdd.toDF().sort( desc(\"count\") ) # Sorts them in Descending order in a DataFrame.\n",
        "  .limit(10).registerTempTable(\"tweets\") ) ) #Registers this DataFrame as a temporary table using the given name)"
      ]
    },
    {
      "cell_type": "markdown",
      "metadata": {
        "id": "pz-3KibtLOL5"
      },
      "source": [
        "__________\n",
        "### Before start next ssc.start() you should run TweetListener.py in the terminal\n",
        "```\n",
        "python TweetListener.py\n",
        "```\n",
        "__________"
      ]
    },
    {
      "cell_type": "code",
      "source": [
        "!wget https://raw.githubusercontent.com/Ruqyai/Tuwaiq_Academy/main/spark/TweetsListener.py &> /dev/null"
      ],
      "metadata": {
        "id": "ULVxajWFPH6w"
      },
      "execution_count": null,
      "outputs": []
    },
    {
      "cell_type": "code",
      "source": [
        "#run the script/API in the background\n",
        "import subprocess\n",
        "subprocess.Popen([\"python\", \"/content/TweetsListener.py\"]) "
      ],
      "metadata": {
        "id": "tSfZ7lJCNr1N"
      },
      "execution_count": null,
      "outputs": []
    },
    {
      "cell_type": "code",
      "execution_count": null,
      "metadata": {
        "jupyter": {
          "outputs_hidden": false
        },
        "id": "5DFvPzsJLOL6"
      },
      "outputs": [],
      "source": [
        "ssc.start()"
      ]
    },
    {
      "cell_type": "code",
      "execution_count": null,
      "metadata": {
        "id": "8JSE6dRpLOL7"
      },
      "outputs": [],
      "source": [
        "count = 0\n",
        "while count < 10:\n",
        "    time.sleep( 3 )\n",
        "    top_10_tweets = sqlContext.sql( 'Select tag, count from tweets' )\n",
        "    top_10_df = top_10_tweets.toPandas()\n",
        "    display.clear_output(wait=True)\n",
        "    plt.figure( figsize = ( 10, 8 ) )\n",
        "    sns.barplot( x=\"count\", y=\"tag\", data=top_10_df)\n",
        "    plt.show()\n",
        "    count = count + 1"
      ]
    },
    {
      "cell_type": "code",
      "execution_count": null,
      "metadata": {
        "id": "IdUkgkruLOL8"
      },
      "outputs": [],
      "source": [
        "ssc.stop()"
      ]
    },
    {
      "cell_type": "markdown",
      "source": [
        "# Assignment #2\n",
        "\n",
        "Do any enhancement in the code or change anything "
      ],
      "metadata": {
        "id": "oyN59G-SsSou"
      }
    },
    {
      "cell_type": "code",
      "source": [
        "#When I try to change anything, I get an error"
      ],
      "metadata": {
        "id": "0sxgAOift3JR"
      },
      "execution_count": null,
      "outputs": []
    }
  ],
  "metadata": {
    "anaconda-cloud": {},
    "kernelspec": {
      "display_name": "Python 3 (ipykernel)",
      "language": "python",
      "name": "python3"
    },
    "language_info": {
      "codemirror_mode": {
        "name": "ipython",
        "version": 3
      },
      "file_extension": ".py",
      "mimetype": "text/x-python",
      "name": "python",
      "nbconvert_exporter": "python",
      "pygments_lexer": "ipython3",
      "version": "3.10.2"
    },
    "vscode": {
      "interpreter": {
        "hash": "369f2c481f4da34e4445cda3fffd2e751bd1c4d706f27375911949ba6bb62e1c"
      }
    },
    "colab": {
      "provenance": [],
      "include_colab_link": true
    }
  },
  "nbformat": 4,
  "nbformat_minor": 0
}